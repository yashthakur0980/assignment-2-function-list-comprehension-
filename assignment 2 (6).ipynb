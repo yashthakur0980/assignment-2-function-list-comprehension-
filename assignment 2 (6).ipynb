{
 "cells": [
  {
   "cell_type": "code",
   "execution_count": 1,
   "id": "649041aa-ad2b-457a-900f-851b375c9852",
   "metadata": {},
   "outputs": [],
   "source": [
    "## Q1 =  keyword is used to create a function is 'def' "
   ]
  },
  {
   "cell_type": "code",
   "execution_count": 2,
   "id": "7b39511e-a0dc-4ec6-8bf8-2071f3c3c35d",
   "metadata": {},
   "outputs": [
    {
     "name": "stdout",
     "output_type": "stream",
     "text": [
      "1\n",
      "3\n",
      "5\n",
      "7\n",
      "9\n",
      "11\n",
      "13\n",
      "15\n",
      "17\n",
      "19\n",
      "21\n",
      "23\n",
      "25\n"
     ]
    }
   ],
   "source": [
    "def odd_num():\n",
    "    for i in range(0,26):\n",
    "        if i%2!=0:\n",
    "            print(i)\n",
    "odd_num()   "
   ]
  },
  {
   "cell_type": "code",
   "execution_count": 1,
   "id": "5d566bd9-da93-4d8f-b430-8be132f75890",
   "metadata": {},
   "outputs": [
    {
     "data": {
      "text/plain": [
       "('name', 'date', 123, 12.34)"
      ]
     },
     "execution_count": 1,
     "metadata": {},
     "output_type": "execute_result"
    }
   ],
   "source": [
    "##Q = 2 \n",
    "## when we are unsure about the number of arguments to pass in the functions.\n",
    "def test(*args):\n",
    "    return args\n",
    "test('name','date',123,12.34)"
   ]
  },
  {
   "cell_type": "code",
   "execution_count": 2,
   "id": "403a7b5d-1585-4fd6-ab3d-9094176e0a95",
   "metadata": {},
   "outputs": [
    {
     "data": {
      "text/plain": [
       "{'name': 'rahul', 'num': 11231}"
      ]
     },
     "execution_count": 2,
     "metadata": {},
     "output_type": "execute_result"
    }
   ],
   "source": [
    "## when we have to pass the data in dict formate \n",
    "def test1(**args):\n",
    "    return args\n",
    "test1(name='rahul',num = 11231)"
   ]
  },
  {
   "cell_type": "code",
   "execution_count": 3,
   "id": "ae0c8e4a-e626-49f4-9088-1c621d2f1fb6",
   "metadata": {},
   "outputs": [],
   "source": [
    "## Q3=  An iterator in Python is an object that is used to iterate over iterable objects like lists, tuples, dicts, and sets. The Python iterators object is initialized using the iter() method. It uses the next() method for iteration\n",
    "l  = [2, 4, 6, 8, 10, 12, 14, 16, 18, 20]"
   ]
  },
  {
   "cell_type": "code",
   "execution_count": 4,
   "id": "ecc52214-82cd-4962-afbb-d006d44f90cc",
   "metadata": {},
   "outputs": [
    {
     "data": {
      "text/plain": [
       "[2, 4, 6, 8, 10, 12, 14, 16, 18, 20]"
      ]
     },
     "execution_count": 4,
     "metadata": {},
     "output_type": "execute_result"
    }
   ],
   "source": [
    "l"
   ]
  },
  {
   "cell_type": "code",
   "execution_count": 5,
   "id": "97155e6e-19d0-4258-87ae-ef47ad4891e7",
   "metadata": {},
   "outputs": [
    {
     "data": {
      "text/plain": [
       "10"
      ]
     },
     "execution_count": 5,
     "metadata": {},
     "output_type": "execute_result"
    }
   ],
   "source": [
    "s = iter(l)\n",
    "next(s)\n",
    "next(s)\n",
    "next(s)\n",
    "next(s)\n",
    "next(s)"
   ]
  },
  {
   "cell_type": "code",
   "execution_count": 7,
   "id": "230b3d1c-9bc7-4abf-8e46-422d400719a5",
   "metadata": {},
   "outputs": [],
   "source": [
    "# Q4 = A generator function in Python is defined like a normal function, but whenever it needs to generate a value, it does so with the yield keyword rather than return, yield is used to give next value "
   ]
  },
  {
   "cell_type": "code",
   "execution_count": 26,
   "id": "eb113d5e-90ec-4421-9739-663721bbe43b",
   "metadata": {},
   "outputs": [
    {
     "name": "stdout",
     "output_type": "stream",
     "text": [
      "0\n",
      "1\n",
      "1\n",
      "2\n",
      "3\n",
      "5\n",
      "8\n",
      "13\n",
      "21\n"
     ]
    }
   ],
   "source": [
    "\n",
    "def fabo(n):\n",
    "    a = 0 \n",
    "    b = 1 \n",
    "\n",
    "    print(a)\n",
    "    print(b)\n",
    "    for i in range(2,n):\n",
    "        c = a+b\n",
    "        yield c\n",
    "        a = b \n",
    "        b = c\n",
    " \n",
    "obj = fabo(9)\n",
    "for i in fabo(9):\n",
    "    print(i)\n"
   ]
  },
  {
   "cell_type": "code",
   "execution_count": 44,
   "id": "ed6bb178-c85f-4028-b1c3-ff473d9604a0",
   "metadata": {},
   "outputs": [
    {
     "name": "stdout",
     "output_type": "stream",
     "text": [
      "2\n",
      "3\n",
      "5\n",
      "7\n",
      "11\n",
      "13\n",
      "17\n",
      "19\n",
      "23\n",
      "29\n",
      "31\n",
      "37\n",
      "41\n",
      "43\n",
      "47\n",
      "53\n",
      "59\n",
      "61\n",
      "67\n",
      "71\n"
     ]
    }
   ],
   "source": [
    "## Q5=\n",
    "def pn():\n",
    "    for i in range(2,1000):\n",
    "        for j in range(2,i):\n",
    "            if i %j ==0:\n",
    "                break\n",
    "        else :\n",
    "            yield i \n",
    "obj = pn()\n",
    "i = 1 \n",
    "while i <=20:\n",
    "    print(next(obj))\n",
    "    i = i +1\n",
    "        "
   ]
  },
  {
   "cell_type": "code",
   "execution_count": 60,
   "id": "d5d71e6d-0034-4f51-be1e-cbbc04af1fc1",
   "metadata": {},
   "outputs": [
    {
     "name": "stdout",
     "output_type": "stream",
     "text": [
      "0\n",
      "1\n",
      "1\n",
      "2\n",
      "3\n",
      "5\n",
      "8\n",
      "13\n",
      "21\n",
      "34\n"
     ]
    }
   ],
   "source": [
    "#Q6 = \n",
    "def fibo():\n",
    "    b=1\n",
    "    i = 1\n",
    "    c = 0\n",
    "    while i <=10:\n",
    "        print(c)\n",
    "        i = i +1    \n",
    "        a = b \n",
    "        b = c\n",
    "        c = a+b\n",
    "fibo()\n",
    " "
   ]
  },
  {
   "cell_type": "code",
   "execution_count": 65,
   "id": "2cea548c-b8a5-45b3-b247-cf5aabe149a2",
   "metadata": {},
   "outputs": [
    {
     "data": {
      "text/plain": [
       "['p', 'w', 's', 'k', 'i', 'l', 'l']"
      ]
     },
     "execution_count": 65,
     "metadata": {},
     "output_type": "execute_result"
    }
   ],
   "source": [
    "##Q7 = \n",
    "s = 'pwskill'\n",
    "[str(i) for i in s ]"
   ]
  },
  {
   "cell_type": "code",
   "execution_count": 66,
   "id": "925a0cd6-d6c2-472f-b344-3842739819c8",
   "metadata": {},
   "outputs": [
    {
     "name": "stdin",
     "output_type": "stream",
     "text": [
      "n 121\n"
     ]
    },
    {
     "name": "stdout",
     "output_type": "stream",
     "text": [
      "palindrome\n"
     ]
    }
   ],
   "source": [
    "##Q8 = \n",
    "def palin():    \n",
    "    n = int(input('n'))\n",
    "    m = n\n",
    "    r = 0\n",
    "    while n >0:\n",
    "        a =  n % 10 \n",
    "        r = r *10 +a\n",
    "        n = n //10\n",
    "    \n",
    "    if r == m :\n",
    "        print('palindrome')\n",
    "    else:\n",
    "        print('not a palindome')\n",
    "palin()        \n"
   ]
  },
  {
   "cell_type": "code",
   "execution_count": 67,
   "id": "20bbedb9-8838-489d-8423-502fa3010b9b",
   "metadata": {},
   "outputs": [
    {
     "data": {
      "text/plain": [
       "[1,\n",
       " 3,\n",
       " 5,\n",
       " 7,\n",
       " 9,\n",
       " 11,\n",
       " 13,\n",
       " 15,\n",
       " 17,\n",
       " 19,\n",
       " 21,\n",
       " 23,\n",
       " 25,\n",
       " 27,\n",
       " 29,\n",
       " 31,\n",
       " 33,\n",
       " 35,\n",
       " 37,\n",
       " 39,\n",
       " 41,\n",
       " 43,\n",
       " 45,\n",
       " 47,\n",
       " 49,\n",
       " 51,\n",
       " 53,\n",
       " 55,\n",
       " 57,\n",
       " 59,\n",
       " 61,\n",
       " 63,\n",
       " 65,\n",
       " 67,\n",
       " 69,\n",
       " 71,\n",
       " 73,\n",
       " 75,\n",
       " 77,\n",
       " 79,\n",
       " 81,\n",
       " 83,\n",
       " 85,\n",
       " 87,\n",
       " 89,\n",
       " 91,\n",
       " 93,\n",
       " 95,\n",
       " 97,\n",
       " 99]"
      ]
     },
     "execution_count": 67,
     "metadata": {},
     "output_type": "execute_result"
    }
   ],
   "source": [
    "##Q8=\n",
    "[i for i in range(0,100) if  i %2 != 0 ]"
   ]
  },
  {
   "cell_type": "code",
   "execution_count": null,
   "id": "b919dd2f-73ba-4571-b551-cafc03761c7c",
   "metadata": {},
   "outputs": [],
   "source": []
  }
 ],
 "metadata": {
  "kernelspec": {
   "display_name": "Python 3 (ipykernel)",
   "language": "python",
   "name": "python3"
  },
  "language_info": {
   "codemirror_mode": {
    "name": "ipython",
    "version": 3
   },
   "file_extension": ".py",
   "mimetype": "text/x-python",
   "name": "python",
   "nbconvert_exporter": "python",
   "pygments_lexer": "ipython3",
   "version": "3.10.6"
  }
 },
 "nbformat": 4,
 "nbformat_minor": 5
}
